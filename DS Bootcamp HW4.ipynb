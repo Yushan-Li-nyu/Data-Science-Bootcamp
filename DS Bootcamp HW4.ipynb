{
 "cells": [
  {
   "cell_type": "code",
   "execution_count": null,
   "id": "ee5f4503",
   "metadata": {},
   "outputs": [],
   "source": [
    "# 1. Create a line plot of ZN and INDUS in the housing data.\n",
    "# a. For ZN, use a solid green line. For INDUS, use a blue dashed line.\n",
    "# b. Change the figure size to a width of 12 and height of 8.\n",
    "# c. Change the style sheet to something you find https://tonysyu.github.io/raw_content/matplotlib-style-gallery/gallery.html.\n",
    "\n"
   ]
  },
  {
   "cell_type": "code",
   "execution_count": null,
   "id": "2ad09914",
   "metadata": {},
   "outputs": [],
   "source": [
    "# 2. Create a bar chart using col1 and col2 of dummy data.\n",
    "# a. Give the plot a large title of your choosing.\n",
    "# b. Move the legend to the lower-left corner.\n",
    "# c. Do the same thing but with horizontal bars.\n",
    "# d. Move the legend to the upper-right corner."
   ]
  },
  {
   "cell_type": "code",
   "execution_count": null,
   "id": "428305ad",
   "metadata": {},
   "outputs": [],
   "source": [
    "# 3. Create a histogram with pandas for using MEDV in the housing data.\n",
    "# a. Set the bins to 20"
   ]
  },
  {
   "cell_type": "code",
   "execution_count": null,
   "id": "ce4a78fa",
   "metadata": {},
   "outputs": [],
   "source": [
    "# 4. Create a scatter plot of two heatmap entries that appear to have a very positive correlation"
   ]
  },
  {
   "cell_type": "code",
   "execution_count": null,
   "id": "dcd76f4e",
   "metadata": {},
   "outputs": [],
   "source": [
    "# 5. Now, create a scatter plot of two heatmap entries that appear to have negative correlation."
   ]
  }
 ],
 "metadata": {
  "kernelspec": {
   "display_name": "Python 3 (ipykernel)",
   "language": "python",
   "name": "python3"
  },
  "language_info": {
   "codemirror_mode": {
    "name": "ipython",
    "version": 3
   },
   "file_extension": ".py",
   "mimetype": "text/x-python",
   "name": "python",
   "nbconvert_exporter": "python",
   "pygments_lexer": "ipython3",
   "version": "3.11.0"
  }
 },
 "nbformat": 4,
 "nbformat_minor": 5
}
