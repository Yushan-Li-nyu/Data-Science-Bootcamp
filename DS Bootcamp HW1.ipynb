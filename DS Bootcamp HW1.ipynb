{
 "cells": [
  {
   "cell_type": "code",
   "execution_count": 1,
   "id": "25d6b706",
   "metadata": {},
   "outputs": [
    {
     "name": "stdout",
     "output_type": "stream",
     "text": [
      "[0, 1, 1, 2, 3, 5, 8, 13, 21, 34]\n"
     ]
    }
   ],
   "source": [
    "# 1. Display Fibonacci Series upto 10 terms\n",
    "series = [0,1]\n",
    "while len(series) < 10:\n",
    "    series.append(series[-1] + series[-2])\n",
    "print(series)"
   ]
  },
  {
   "cell_type": "code",
   "execution_count": 2,
   "id": "a6143005",
   "metadata": {},
   "outputs": [
    {
     "name": "stdout",
     "output_type": "stream",
     "text": [
      "Numbers at the odd indices:  [2, 4, 6, 8]\n"
     ]
    }
   ],
   "source": [
    "# 2. Display numbers at the odd indices of a list\n",
    "numlist = [1,2,3,4,5,6,7,8]\n",
    "odd_ind = numlist[1::2]\n",
    "print('Numbers at the odd indices: ', odd_ind)"
   ]
  },
  {
   "cell_type": "code",
   "execution_count": 3,
   "id": "192c4bb6",
   "metadata": {},
   "outputs": [
    {
     "name": "stdout",
     "output_type": "stream",
     "text": [
      "List in reverse order:  [8, 7, 6, 5, 4, 3, 2, 1]\n"
     ]
    }
   ],
   "source": [
    "# 3. Print a list in reverse order\n",
    "ori_list = [1,2,3,4,5,6,7,8]\n",
    "ori_list.reverse()\n",
    "print('List in reverse order: ', ori_list)"
   ]
  },
  {
   "cell_type": "code",
   "execution_count": 4,
   "id": "5b8c2e35",
   "metadata": {},
   "outputs": [
    {
     "name": "stdout",
     "output_type": "stream",
     "text": [
      "['ChatGPT', 'has', 'created', 'this', 'text', 'to', 'provide', 'tips', 'on', 'creating', 'interesting', 'paragraphs', 'First', 'start', 'with', 'a', 'clear', 'topic', 'sentence', 'that', 'introduces', 'the', 'main', 'idea', 'Then', 'support', 'specific', 'details', 'examples', 'and', 'evidence', 'Vary', 'length', 'structure', 'keep', 'reader', 'engaged', 'Finally', 'end', 'strong', 'concluding', 'summarizes', 'points', 'Remember', 'practice', 'makes', 'perfect']\n",
      "The number of different words in this text is: 47\n"
     ]
    }
   ],
   "source": [
    "# 4. Your task is to count the number of different words in this text\n",
    "\t\n",
    "string = \"\"\"\n",
    "ChatGPT has created this text to provide tips on creating interesting paragraphs. \n",
    "First, start with a clear topic sentence that introduces the main idea. \n",
    "Then, support the topic sentence with specific details, examples, and evidence.\n",
    "Vary the sentence length and structure to keep the reader engaged.\n",
    "Finally, end with a strong concluding sentence that summarizes the main points.\n",
    "Remember, practice makes perfect!\n",
    "\"\"\"\n",
    "string = string.replace(',','')\n",
    "string = string.replace('.','')\n",
    "string = string.replace('!','')\n",
    "\n",
    "words = string.split()\n",
    "\n",
    "diff_count = 0\n",
    "newlist = []\n",
    "for word in words:\n",
    "    if word not in newlist:\n",
    "        newlist.append(word)\n",
    "        diff_count+=1\n",
    "print(newlist)\n",
    "print('The number of different words in this text is:', diff_count)\n",
    "        "
   ]
  },
  {
   "cell_type": "code",
   "execution_count": 5,
   "id": "cd1d731e",
   "metadata": {},
   "outputs": [
    {
     "data": {
      "text/plain": [
       "2"
      ]
     },
     "execution_count": 5,
     "metadata": {},
     "output_type": "execute_result"
    }
   ],
   "source": [
    "# 5. Write a function that takes a word as an argument and returns the number of vowels in the word\n",
    "def vowels_count(word):\n",
    "    vowels = ['a', 'e', 'i', 'o', 'u']\n",
    "    count = 0\n",
    "    for letter in word:\n",
    "        if letter in vowels:\n",
    "            count+=1\n",
    "    return count\n",
    "# example for using the function\n",
    "vowels_count('hello')"
   ]
  },
  {
   "cell_type": "code",
   "execution_count": 6,
   "id": "3a809a9a",
   "metadata": {},
   "outputs": [
    {
     "name": "stdout",
     "output_type": "stream",
     "text": [
      "TIGER\n",
      "ELEPHANT\n",
      "MONKEY\n",
      "ZEBRA\n",
      "PANTHER\n"
     ]
    }
   ],
   "source": [
    "# 6. Iterate through the following list of animals and print each one in all caps.\n",
    "animals=['tiger', 'elephant', 'monkey', 'zebra', 'panther']\n",
    "for animal in animals:\n",
    "    animal = animal.upper()\n",
    "    print(animal)"
   ]
  },
  {
   "cell_type": "code",
   "execution_count": 7,
   "id": "59ef26b4",
   "metadata": {},
   "outputs": [
    {
     "name": "stdout",
     "output_type": "stream",
     "text": [
      "1 is odd\n",
      "2 is even\n",
      "3 is odd\n",
      "4 is even\n",
      "5 is odd\n",
      "6 is even\n",
      "7 is odd\n",
      "8 is even\n",
      "9 is odd\n",
      "10 is even\n",
      "11 is odd\n",
      "12 is even\n",
      "13 is odd\n",
      "14 is even\n",
      "15 is odd\n"
     ]
    }
   ],
   "source": [
    "# 7. Iterate from 1 to 15, printing whether the number is odd or even\n",
    "for num in range(1,16):\n",
    "    if num%2 == 0:\n",
    "        print(num, 'is even')\n",
    "    else:\n",
    "        print(num, 'is odd')"
   ]
  },
  {
   "cell_type": "code",
   "execution_count": 8,
   "id": "897ee428",
   "metadata": {},
   "outputs": [
    {
     "name": "stdout",
     "output_type": "stream",
     "text": [
      "Enter the first number:1\n",
      "Enter the second number:2\n"
     ]
    },
    {
     "data": {
      "text/plain": [
       "3"
      ]
     },
     "execution_count": 8,
     "metadata": {},
     "output_type": "execute_result"
    }
   ],
   "source": [
    "# 8. Take two integers as input from user and return the sum\n",
    "def sum_two():\n",
    "    num1 = int(input('Enter the first number:'))\n",
    "    num2 = int(input('Enter the second number:'))\n",
    "    sum_two = num1 + num2\n",
    "    return sum_two\n",
    "sum_two()"
   ]
  },
  {
   "cell_type": "code",
   "execution_count": null,
   "id": "50c9f998",
   "metadata": {},
   "outputs": [],
   "source": []
  }
 ],
 "metadata": {
  "kernelspec": {
   "display_name": "Python 3 (ipykernel)",
   "language": "python",
   "name": "python3"
  },
  "language_info": {
   "codemirror_mode": {
    "name": "ipython",
    "version": 3
   },
   "file_extension": ".py",
   "mimetype": "text/x-python",
   "name": "python",
   "nbconvert_exporter": "python",
   "pygments_lexer": "ipython3",
   "version": "3.9.12"
  }
 },
 "nbformat": 4,
 "nbformat_minor": 5
}
